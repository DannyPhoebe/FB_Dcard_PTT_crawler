{
 "cells": [
  {
   "cell_type": "code",
   "execution_count": 3,
   "metadata": {
    "collapsed": false
   },
   "outputs": [],
   "source": [
    "import requests,re,os,time\n",
    "import datetime\n",
    "from bs4 import BeautifulSoup,NavigableString\n",
    "\n",
    "#抓取時間 20060101~20160531\n",
    "forum_list = ['Gossiping','Hate','WomenTalk','AllTogether'] # 14393 41-3375 70-5016\n",
    "    \n",
    "\n",
    "\n",
    "\n",
    "class PTT_crawler(object):\n",
    "    def __init__(self, forum, until, sleep=True):\n",
    "        self.forumlist = ['timecapsule','relationship','girl','makeup','dressup','funny','rainbow','marvel','boy','horoscopes','food','mood','travel']\n",
    "        self.forum = forum\n",
    "        self.until = until if until <= str(datetime.datetime.now())[0:10] else str(datetime.datetime.now())[0:10]\n",
    "        self.sleep = sleep\n",
    "        self.post_ids = list()\n",
    "        self.url_num = None\n",
    "        self.data = dict()\n",
    "        print(\"PTT_crawler is activated...\")\n",
    "\n",
    "    def crawler(self):\n",
    "        rs = requests.session()\n",
    "        payload = {'from':'/bbs/%s/index.html' % self.forum,'yes':'yes'}\n",
    "        res = rs.post('https://www.ptt.cc/ask/over18', data=payload)\n",
    "        assert rs.get(\"https://www.ptt.cc/bbs/{}/index.html\".format(self.forum)).status_code==200,\"the forum you type doesn't exist\"\n",
    "        page_num = 1\n",
    "        while page_num <= 100: #指定抓取的頁碼\n",
    "            page_url = 'https://www.ptt.cc/bbs/%s/index%s.html' % (self.forum, str(page_num))\n",
    "            soup = BeautifulSoup(rs.get(page_url).text,'lxml')\n",
    "            self.post_ids.append(list(map(lambda x:\"https://www.ptt.cc/\"+x.find('a')['href'],soup.select('.r-ent'))))\n",
    "            page_num += 1\n",
    "        self.post_ids = sum(self.post_ids,[])\n",
    "        self.url_num = len(self.post_ids)\n",
    "        print(self.url_num,\"post urls are collected\")        \n",
    "        self.data['info'] = {'until':self.until}\n",
    "        self.data['post'] = [None]*self.url_num\n",
    "        for idx,pid in enumerate(self.post_ids):\n",
    "#             print('idx',idx,pid)\n",
    "            res = rs.get(pid, verify=False)\n",
    "            soup = BeautifulSoup(res.text,'lxml')\n",
    "            contents = soup.select('#main-content')[0].contents\n",
    "            all_text = \"\"\n",
    "#             print(contents)\n",
    "            for num in range(len(contents)): # 抓取本文\n",
    "                if isinstance(contents[num],NavigableString):\n",
    "                    if num != 4:\n",
    "                        print('idx',idx,pid)\n",
    "                    all_text += re.sub(r'\\s','',contents[num])\n",
    "                    break\n",
    "            all_text = re.sub(r'\\-\\-.+\\d$','',all_text)\n",
    "            self.data['post'][idx] = {'content':all_text}\n",
    "            info = soup.select('#main-content')[0].select('.article-meta-value') # 抓取 meta-tag:author,forum,title,time\n",
    "#             if len(info) == 4:\n",
    "            self.data['post'][idx]['metatag'] = soup.select('#main-content')[0].select('.article-meta-value')\n",
    "#             except:\n",
    "#                 pass\n",
    "#             page_num += 1\n",
    "#             if page_num % 500 == 0:\n",
    "#                 time.sleep(5)"
   ]
  },
  {
   "cell_type": "code",
   "execution_count": 49,
   "metadata": {
    "collapsed": false
   },
   "outputs": [],
   "source": [
    "c.data['post'][0]"
   ]
  },
  {
   "cell_type": "code",
   "execution_count": 4,
   "metadata": {
    "collapsed": false
   },
   "outputs": [
    {
     "name": "stdout",
     "output_type": "stream",
     "text": [
      "PTT_crawler is activated...\n",
      "2000 post urls are collected\n",
      "idx 586 https://www.ptt.cc//bbs/Gossiping/M.1125506521.A.BAC.html\n",
      "idx 1450 https://www.ptt.cc//bbs/Gossiping/M.1170683363.A.B31.html\n",
      "idx 1635 https://www.ptt.cc//bbs/Gossiping/M.1173456473.A.F4F.html\n",
      "idx 1706 https://www.ptt.cc//bbs/Gossiping/M.1175282358.A.html\n",
      "idx 1750 https://www.ptt.cc//bbs/Gossiping/M.1177219161.A.F97.html\n",
      "idx 1752 https://www.ptt.cc//bbs/Gossiping/M.1177247169.A.377.html\n",
      "idx 1776 https://www.ptt.cc//bbs/Gossiping/M.1177861056.A.73F.html\n",
      "idx 1777 https://www.ptt.cc//bbs/Gossiping/M.1177940567.A.168.html\n",
      "idx 1989 https://www.ptt.cc//bbs/Gossiping/M.1193415811.A.CE9.html\n",
      "idx 1991 https://www.ptt.cc//bbs/Gossiping/M.1193469173.A.E01.html\n",
      "idx 1993 https://www.ptt.cc//bbs/Gossiping/M.1193475066.A.0B6.html\n",
      "idx 1994 https://www.ptt.cc//bbs/Gossiping/M.1193488506.A.BC9.html\n",
      "idx 1999 https://www.ptt.cc//bbs/Gossiping/M.1193586325.A.AC9.html\n"
     ]
    }
   ],
   "source": [
    "c=PTT_crawler('Gossiping','1')\n",
    "c.crawler()"
   ]
  },
  {
   "cell_type": "code",
   "execution_count": 15,
   "metadata": {
    "collapsed": false
   },
   "outputs": [
    {
     "name": "stdout",
     "output_type": "stream",
     "text": [
      "〔閒聊文〕她可是我ＩＤ的由來<(￣︶￣)>\n",
      "這…除非原ＰＯ妹妹對化妝完全沒概念，不然就算再自然也不可能面對面還沒發現然後這個世界上沒有超自然的濃妝啦！XDDD\n",
      "用文字很難解釋，加上這裡不是美妝板我也不是化妝達人乾脆直接ＰＯ圖比較快至於示範者…只好請不幸被我看上（？！）的魚先生出場了…這張是有化妝有打光的，音樂錄影帶截圖\n",
      "http://jasminetheyang.myweb.hinet.net/1327.jpg\n",
      "可以看到皮膚感覺很光滑也很自然，鬍渣什麼男性特徵都有保留重點在臉頰上的突起，有長過痘痘的人都知道，發炎成那樣不可能不紅腫這就是為何長痘痘還是會被發現因為化妝可以把顏色蓋過去，甚至可以修補一部分凹洞可是沒辦法把突起來的東西用平…照片可以修圖或喬角度、光線；可是拍動來動去的東西就會破功這張就是我所謂的素顏幕後花絮（不過這兩張照片時間不一樣就是了）\n",
      "http://jasminetheyang.myweb.hinet.net/5807.jpg\n",
      "臉頰上的那些不是痘痘，是痘疤；而痘疤是蓋得掉的只是幕後花絮就沒有蓋了然後是去年演唱會幕後，自己從東京熬夜開車去大阪開演唱會的魚先生\n",
      "http://jasminetheyang.myweb.hinet.net/2543.jpg\n",
      "很好，黑眼圈、眼袋、鼻子上的痘痘、鬍渣；一應俱全（笑）一樣，那種大小的痘痘要遮掉不是難事；至於黑眼圈、眼袋、鬍渣…在演唱會時全不見了！XD\n",
      "http://jasminetheyang.myweb.hinet.net/0816.jpg\n",
      "另外補上兩張Ｊｒ這是剛進休息室就被攝影機逮到的風間帥介，戴著平常上電視時不會戴可是偷拍照裡常出現的黑框眼鏡\n",
      "http://jasminetheyang.myweb.hinet.net/0457.jpg\n",
      "這是正在化妝的澀谷昴，臉上的是妝前霜（也就是說才剛開始化，幾乎是素顏）\n",
      "http://jasminetheyang.myweb.hinet.net/5624.jpg\n",
      "接下來的圖感謝板友熱情提供（笑），Fans感謝祭－傑尼斯大運動會截圖（看Ｊ家眾藝人素顏的大好機會）\n",
      "http://taisetsu.myweb.hinet.net/2003sport/taichi01.JPG\n",
      "國分大一\n",
      "http://taisetsu.myweb.hinet.net/2003sport/hiroshi01.JPG\n",
      "長野十專\n",
      "http://taisetsu.myweb.hinet.net/2003sport/okada01.JPG\n",
      "岡田淮一\n",
      "http://taisetsu.myweb.hinet.net/2003sport/masa01.JPG\n",
      "坂本昌型\n",
      "http://taisetsu.myweb.hinet.net/2003sport/tsubasa01.JPG\n",
      "金翅膀\n",
      "http://taisetsu.myweb.hinet.net/2003sport/tsubasa03.JPG\n",
      "金翅膀其實近視\n",
      "http://taisetsu.myweb.hinet.net/2003sport/tsubasa04.JPG\n",
      "金翅膀素顏近照\n",
      "http://taisetsu.myweb.hinet.net/2003sport/taki02.JPG\n",
      "瀧澤義經\n",
      "http://taisetsu.myweb.hinet.net/2003sport/taki03.JPG\n",
      "瀧澤義經\n",
      "http://taisetsu.myweb.hinet.net/2003sport/tsuyoshi01.JPG\n",
      "堂本魚\n",
      "http://taisetsu.myweb.hinet.net/2003sport/tsuyoshi02.JPG\n",
      "堂本魚\n",
      "http://taisetsu.myweb.hinet.net/2003sport/111.JPG\n",
      "山維他露Ｐ\n",
      "不是每個藝人皮膚都會很好，當然也不會每個都很糟我只選素顏比較明顯的這些都不是很難找到的東西，只是我邊找邊看自嗨掉很多時間XD然後我累了，電視節目的以後補上只是想說這些幕後都直接放給人家看了，實在很難相信事務所還會規定藝人出門一定要化妝這樣沒有特別的意思，可是早安所有成員加起來也不到百人而且女藝人〔應該〕比男藝人更注重外在形象（尤其是日本）可是也沒聽說高層有下令全早安出門都要化妝要不要化妝純粹是看個人愛不愛漂亮而後空翻事務所光是Ｊｒ.就破兩百人規定每個人都要化妝才能出門…其實有點難……選這些照片不是故意要讓板友幻滅或怎樣至於要覺得素顏的他們好不好看也不在八卦板的討論範圍只是想針對〔公司規定藝人不化妝不能出門〕這個說法作出澄清\n",
      "個人認為啦…不要太相信２ＣＨ比較好匿名留言板不會因為是日本站就會比較誠實（個人覺得剛好相反？）之前還傳過藤木直仁跟魚先生熱戀中，正要準備同居…這種事情叫我怎麼相信啊？！…╯-__-)╯~╩═╩~補一個２ＣＨ的八卦現在很紅的電車男，故事其實就是發生在２ＣＨ上至於故事的結尾我聽過兩個版本有雷勿進（？！）一個是兩人開始交往之後，還在室的電車男無法應付愛瑪士小姐而又上網求救而愛瑪士也跟著上線訴說她的立場，說女性也是有需求的（汗）然後一堆人發現愛瑪士根本不是他們心目中想像的女神（…個人認為是自己愛幻想然後才又哭說幻滅啦）另一個版本是最近的，說這件事根本是虛構的，是小說家故意ＰＯ文根據板眾反應編劇情順便炒熱話題不管是哪個都能解釋為何愛瑪士小姐那麼主動就是了XD只是因為是匿名板，事情的真相到底如何，也就無從查起了…--\n",
      "\n"
     ]
    }
   ],
   "source": [
    "import requests,re,os,time\n",
    "from numpy import argmax\n",
    "from bs4 import BeautifulSoup,NavigableString\n",
    "payload = {\n",
    "'from':'/bbs/%s/index.html' % 'Gossiping',\n",
    "'yes':'yes'\n",
    "}\n",
    "rs = requests.session()\n",
    "res = rs.post('https://www.ptt.cc/ask/over18', data=payload)\n",
    "page_num = 1\n",
    "page_url = 'https://www.ptt.cc//bbs/Gossiping/M.1125506521.A.BAC.html'\n",
    "res = rs.get(page_url)\n",
    "# soup = BeautifulSoup(res.text,'lxml')\n",
    "# res = rs.get(\"https://www.ptt.cc/\"+soup.select('.r-ent')[0].find('a')['href'])\n",
    "soup = BeautifulSoup(res.text,'lxml')\n",
    "contents = soup.select('#main-content')[0].contents\n",
    "\n",
    "# for idx,i in enumerate(contents):\n",
    "#     print(idx,type(i),i)\n",
    "\n",
    "all_text = \"\"\n",
    "for num in range(4,argmax(list(map(lambda x:x.name=='span' and x.attrs['class'][0]=='f2',contents)))):\n",
    "    if isinstance(contents[num],NavigableString):\n",
    "        tmp = re.sub('\\s','',contents[num])\n",
    "        if len(tmp) != 0:\n",
    "            all_text += re.sub('\\s','',contents[num])+'\\n'\n",
    "    elif contents[num].name == 'a':\n",
    "        all_text += contents[num].text+'\\n'\n",
    "\n",
    "print(all_text)\n",
    "# print(contents[79].name)\n",
    "# print(contents[79].attrs)\n",
    "# contents[0:3]\n",
    "# argmax(list(map(lambda x:x.name=='span' and x.attrs['class'][0]=='f2',contents)))"
   ]
  },
  {
   "cell_type": "code",
   "execution_count": 7,
   "metadata": {
    "collapsed": false
   },
   "outputs": [
    {
     "data": {
      "text/plain": [
       "False"
      ]
     },
     "execution_count": 7,
     "metadata": {},
     "output_type": "execute_result"
    }
   ],
   "source": [
    "None=='a'"
   ]
  },
  {
   "cell_type": "code",
   "execution_count": 8,
   "metadata": {
    "collapsed": false
   },
   "outputs": [
    {
     "data": {
      "text/plain": [
       "{'content': '1Gossiping綜合◎記者，你的名字是抄襲。HOTlinkinpork/to2ˇHate心情◎幹!!期末考要加油啊HOTloverlover/ci3ˇFORMULA1賽車◎SadGRANDPRIXHOTMSCHUMACHER/S4ˇsex男女◎★原來現在政府鼓勵中出★HOTtoshizou/badb5ˇBeauty聊天◎★Beauty板禮貌運動！★HOTno1great/high6ˇCMWang*MLB◎就這樣~~小熊被老虎吃了HOTNYYAndy/geniu7ˇWarCraft即時●★那你剛剛為什麼不買purge刀★96Trueapril/sho8ˇjoke娛樂◎今天唯一的高潮77opengoodbook/9ˇStupidClown個人◎\"我二度灼傷\"\"..攝氏二度嗎?\"56antipower/big10ˇshare娛樂●雪兒～快來吃歐啪麵包吧54stkeiko/KaBik雖然是冷門時間不過第一就是第一--不行po的話快回信給我我自d--',\n",
       " 'metatag': [<span class=\"article-meta-value\">gogoegg (--)</span>,\n",
       "  <span class=\"article-meta-value\">Gossiping</span>,\n",
       "  <span class=\"article-meta-value\">第一耶！</span>,\n",
       "  <span class=\"article-meta-value\">Mon Jun 20 07:11:31 2005</span>]}"
      ]
     },
     "execution_count": 8,
     "metadata": {},
     "output_type": "execute_result"
    }
   ],
   "source": [
    "c.data['post'][0]"
   ]
  }
 ],
 "metadata": {
  "anaconda-cloud": {},
  "kernelspec": {
   "display_name": "Python [conda env:py34]",
   "language": "python",
   "name": "conda-env-py34-py"
  },
  "language_info": {
   "codemirror_mode": {
    "name": "ipython",
    "version": 3
   },
   "file_extension": ".py",
   "mimetype": "text/x-python",
   "name": "python",
   "nbconvert_exporter": "python",
   "pygments_lexer": "ipython3",
   "version": "3.4.5"
  }
 },
 "nbformat": 4,
 "nbformat_minor": 1
}
